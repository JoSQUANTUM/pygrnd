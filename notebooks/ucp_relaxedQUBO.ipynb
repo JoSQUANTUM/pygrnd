{
 "cells": [
  {
   "cell_type": "code",
   "execution_count": 11,
   "metadata": {
    "collapsed": false
   },
   "outputs": [],
   "source": [
    "import numpy as np\n",
    "import math\n",
    "import random\n",
    "import itertools\n",
    "from itertools import *\n",
    "import scipy\n",
    "import math\n",
    "import matplotlib\n",
    "import matplotlib.pyplot as plt\n",
    "from matplotlib.colors import LogNorm, Normalize\n",
    "import pandas as pd\n",
    "from pandas import *\n",
    "import seaborn as sns\n",
    "import time\n",
    "\n",
    "from pygrnd.optimize.UCPquboFunctionLibrary import *\n",
    "\n",
    "#import UCPquboFunctionLibrary\n",
    "#from UCPquboFunctionLibrary import *"
   ]
  },
  {
   "attachments": {},
   "cell_type": "markdown",
   "metadata": {
    "collapsed": false
   },
   "source": [
    "# Solving the stochastic Unit Commitment Problem \\(SUCP\\) with QUBO's\n",
    "\n"
   ]
  },
  {
   "attachments": {},
   "cell_type": "markdown",
   "metadata": {
    "collapsed": false
   },
   "source": [
    "The unit commitment problem \\(**UCP**\\) in electrical power production is a mathematical optimization problem where one wants to find the best possible allocation of power supply units, e.g., to match a specific demand of energy over a number of timesteps. Here, we present a way to tackle the problem using a quadratic unconstrained binary optimization \\(**QUBO**\\) formulation. The goal is to model every constraint as a penalty term and add it to the objective that we want to minimize in order to solve the UCP. We require the objective to be such that we\n",
    "\n",
    "- match the power demand\n",
    "\n",
    "- minimize the overall costs\n",
    "\n",
    "- consider minimum run times \\(_minup_\\) and minimum down times \\(_mindown_\\)\n",
    "\n",
    "- consider minimum/maximum power supply \\(_mingen/maxgen_\\)\n",
    "\n",
    "The optimal solution is given by the ground state (lowest energy state) of the objective. \n",
    "\n",
    "Additionally, we consider probability distributions that describe uncertainties in the demand and in the supply of the renewable units in the problem. This defines a stochastic version of the unit commitment problem \\(SUCP\\). \n",
    "\n",
    "Technical details about the exact mathematical formulation can be found in \"Quantum Computing Approach to the (stochastic) Unit Commitment Problem\".\n",
    "\n"
   ]
  },
  {
   "attachments": {},
   "cell_type": "markdown",
   "metadata": {
    "collapsed": false
   },
   "source": [
    "We start with the problem specification:"
   ]
  },
  {
   "attachments": {},
   "cell_type": "markdown",
   "metadata": {
    "collapsed": false
   },
   "source": [
    "#### Specify units properties and probability distributions for demand and renewable supply\n",
    "\n"
   ]
  },
  {
   "attachments": {},
   "cell_type": "markdown",
   "metadata": {
    "collapsed": false
   },
   "source": [
    "Some example sets are shown below. The last cell defines the UCP instance that is solved.\n"
   ]
  },
  {
   "cell_type": "code",
   "execution_count": 12,
   "metadata": {
    "collapsed": false
   },
   "outputs": [],
   "source": [
    "#problem size XXS (2 units, 1 timestep)\n",
    "hour=[1]\n",
    "demand = [500]                                         # list containing demand elements for individual timesteps\n",
    "suppren=[[25,75]]                                      # list containing supply of renewables in each timestep; number of renewables = len(suppren[0])\n",
    "varcost = [50,35]                                      # list containing varcost for each unit\n",
    "maxgen = [500,800]                                     # list containing maxgen for each unit\n",
    "mingen = [40, 250]                                     # list containing mingen for each unit\n",
    "startcost = [3000,5000]                                # list containing startcost for each unit\n",
    "minup = [1,1]                                          # list containing minup for each unit\n",
    "mindown = [1,1]                                        # list containing mindown for each unit\n",
    "\n",
    "pdRE=[[[40,50,60],[80,100,120]]]                                           # renewable supply with structure: pdRE=[timestep[1],..,[timestep[T]]];\n",
    "                                                                          # timestep[n]=[unit_1,..,unit_N]; unit_r=[list of possible power supply values]\n",
    "probsRE=[[[0.1,0.8,0.1],[0.1,0.8,0.1]]]                                   # probabilities for corresponding power supply levels\n",
    "pdD=[[700,800,900]]                                                       # demand supply possibilities in every timestep\n",
    "probsD=[[0.1,0.8,0.1]]                                                    # probabilities for possible demand values in every timestep"
   ]
  },
  {
   "cell_type": "code",
   "execution_count": 13,
   "metadata": {
    "collapsed": false
   },
   "outputs": [],
   "source": [
    "#problem size XS (2 units, 3 timestep)\n",
    "\n",
    "hour=[1,2,3]\n",
    "demand = [618, 1445, 710]                             # list containing demand elements for individual timesteps\n",
    "suppren=[[50,100],[50,150],[25,125]]                  # list containing supply of renewables in each timestep; number of renewables = len(suppren[0])\n",
    "varcost = [65,25]                                     # list containing varcost for each unit\n",
    "maxgen = [505,900]                                    # list containing maxgen for each unit\n",
    "mingen = [34, 250]                                    # list containing mingen for each unit\n",
    "startcost = [20000,50000]                             # list containing startcost for each unit\n",
    "minup = [2,2]                                         # list containing minup for each unit\n",
    "mindown = [1,2]                                       # list containing mindown for each unit\n",
    "\n",
    "pdRE=[[[40,50,60],[80,100,120]],[[30,50,70],[120,150,180]],[[5,25,45],[80,125,170]]]                      # renewable supply with structure: pdRE=[timestep[1],..,[timestep[T]]];\n",
    "                                                                                                          # timestep[n]=[unit_1,..,unit_N]; unit_r=[list of possible power supply values]\n",
    "probsRE=[[[0.1,0.8,0.1],[0.1,0.8,0.1]],[[0.15,0.7,0.15],[0.15,0.7,0.15]],[[0.2,0.6,0.2],[0.2,0.6,0.2]]]   # probabilities for corresponding power supply levels\n",
    "pdD=[[518,618,718],[1145,1445,1745],[310,710,1110]]                                                       # demand supply possibilities in every timestep\n",
    "probsD=[[0.1,0.8,0.1],[0.15,0.7,0.15],[0.2,0.6,0.2]]                                                      # probabilities for possible demand values in every timestep"
   ]
  },
  {
   "cell_type": "code",
   "execution_count": 14,
   "metadata": {},
   "outputs": [],
   "source": [
    "#problem size XXXS (2 units, 1 timestep)\n",
    "hour=[1]\n",
    "demand = [15]                                         # list containing demand elements for individual timesteps\n",
    "suppren=[9]                                      # list containing supply of renewables in each timestep; number of renewables = len(suppren[0])\n",
    "varcost = [2,10]                                      # list containing varcost for each unit\n",
    "maxgen = [10,15]                                     # list containing maxgen for each unit\n",
    "mingen = [0, 0]                                     # list containing mingen for each unit\n",
    "startcost = [0,0]                                # list containing startcost for each unit\n",
    "minup = [0,0]                                          # list containing minup for each unit\n",
    "mindown = [0,0]                                        # list containing mindown for each unit\n",
    "\n",
    "pdRE=[[5,10]]                                           # renewable supply with structure: pdRE=[timestep[1],..,[timestep[T]]];\n",
    "                                                                          # timestep[n]=[unit_1,..,unit_N]; unit_r=[list of possible power supply values]\n",
    "probsRE=[[0.2,0.8]]                                   # probabilities for corresponding power supply levels\n",
    "pdD=[[15]]                                                       # demand supply possibilities in every timestep\n",
    "probsD=[[1]]                                                    # probabilities for possible demand values in every timestep"
   ]
  },
  {
   "cell_type": "code",
   "execution_count": 15,
   "metadata": {},
   "outputs": [],
   "source": [
    "#problem size S (2 units, 5 timestep)\n",
    "\n",
    "hour=[1,2,3,4,5]\n",
    "demand = [618, 1445, 710, 710, 1255]                             # list containing demand elements for individual timesteps\n",
    "suppren=[[50,100],[50,150],[25,125],[25,50],[35,15]]             # list containing supply of renewables in each timestep; number of renewables = len(suppren[0])\n",
    "varcost = [65,25]                                                # list containing varcost for each unit\n",
    "maxgen = [505,900]                                               # list containing maxgen for each unit\n",
    "mingen = [34, 250]                                               # list containing mingen for each unit\n",
    "startcost = [20000,50000]                                        # list containing startcost for each unit\n",
    "minup = [2,2]                                                    # list containing minup for each unit\n",
    "mindown = [1,2]                                                  # list containing mindown for each unit\n",
    "\n",
    "pdRE=[[[40,50,60],[80,100,120]],[[30,50,70],[120,150,180]],[[5,25,45],[80,125,170]],[[5,35,65],[80,135,190]],[[10,50,90],[100,150,200]]]                      # renewable supply with structure: pdRE=[timestep[1],..,[timestep[T]]];\n",
    "                                                                                                          # timestep[n]=[unit_1,..,unit_N]; unit_r=[list of possible power supply values]\n",
    "probsRE=[[[0.1,0.8,0.1],[0.1,0.8,0.1]],[[0.15,0.7,0.15],[0.15,0.7,0.15]],[[0.2,0.6,0.2],[0.2,0.6,0.2]],[[0.25,0.5,0.25],[0.25,0.5,0.25]],[[0.3,0.4,0.3],[0.3,0.4,0.3]]]   # probabilities for corresponding power supply levels\n",
    "\n",
    "pdD=[[518,618,718],[1145,1445,1745],[310,710,1110],[300,710,1120],[800,1255,1710]]                                                       # demand supply possibilities in every timestep\n",
    "probsD=[[0.1,0.8,0.1],[0.15,0.7,0.15],[0.2,0.6,0.2],[0.25,0.5,0.25],[0.3,0.4,0.3]]"
   ]
  },
  {
   "cell_type": "code",
   "execution_count": 16,
   "metadata": {},
   "outputs": [
    {
     "data": {
      "image/png": "[encoded data removed]",
      "text/plain": [
       "<Figure size 432x288 with 1 Axes>"
      ]
     },
     "metadata": {
      "needs_background": "light"
     },
     "output_type": "display_data"
    }
   ],
   "source": [
    "plt.bar(hour,demand,label='total demand')\n",
    "#plt.bar(hour,suppren,label='residual demand')\n",
    "plt.xlabel('hour [h]')\n",
    "plt.ylabel('Demand [MW]')\n",
    "plt.legend(title='demand')\n",
    "plt.title('Demand')\n",
    "plt.grid(True)\n",
    "plt.show()"
   ]
  },
  {
   "attachments": {},
   "cell_type": "markdown",
   "metadata": {
    "collapsed": false
   },
   "source": [
    "#### Choose a solver"
   ]
  },
  {
   "cell_type": "code",
   "execution_count": 17,
   "metadata": {
    "collapsed": false
   },
   "outputs": [],
   "source": [
    "#choose a solver\n",
    "solver=4                 # choose solver: 1) BruteForce  2) MonteCarlo  3) MonteCarlo Gradient Descent 4) Simulated Annealing 5) Quantum Annealing  6) Azure Parallel Tempering  7) Azure Quantum Monte Carlo  8) Azure Stochastic Quantum Monte Carlo\n",
    "\n",
    "#DWtoken='DEV-XXXXXXX'               # when using a quantum annealer, enter the access-token here\n",
    "\n",
    "Num   =1000             # number of output solution - number of samples  (default should be 10,000)\n",
    "rounds=1                 # number of ADDITIONAL rounds in which previous output states are used as initial states for the next solver run"
   ]
  },
  {
   "attachments": {},
   "cell_type": "markdown",
   "metadata": {
    "collapsed": false
   },
   "source": [
    "#### Setting penalty strength, resolution, and feasibility filter\n",
    "\n"
   ]
  },
  {
   "cell_type": "code",
   "execution_count": 18,
   "metadata": {
    "collapsed": false
   },
   "outputs": [],
   "source": [
    "# penalty strengths; if all parameters are set to 0, the strength is set automatically\n",
    "A = 0                         # cost penalty strength\n",
    "B = 0                         # demand penalty strength\n",
    "C = 0                         # minup penalty strength\n",
    "C2= 0                         # mindown penalty strength\n",
    "D = 0                         # on/off <-> start interrelation penalty strength\n",
    "E = 0                         # power stages <-> on/off interrelation penalty strength\n",
    "F=0\n",
    "G=0\n",
    "H=0\n",
    "\n",
    "pres = 10                     # power resolution for discretization of power supply range of units\n",
    "\n",
    "boolcheck=True                #choose \"True\" to only consider feasible solutions in the bestobjective-list"
   ]
  },
  {
   "attachments": {},
   "cell_type": "markdown",
   "metadata": {
    "collapsed": false
   },
   "source": [
    "#### Display diagrams and other graphical outputs?\n",
    "\n"
   ]
  },
  {
   "attachments": {},
   "cell_type": "markdown",
   "metadata": {
    "collapsed": false
   },
   "source": [
    "Set \"graphicsout\" to \"True\" if graphical output should be displayed. It is suppressed otherwise.\n",
    "\n"
   ]
  },
  {
   "cell_type": "code",
   "execution_count": 19,
   "metadata": {
    "collapsed": false
   },
   "outputs": [],
   "source": [
    "graphicsout= True    # show plots"
   ]
  },
  {
   "attachments": {},
   "cell_type": "markdown",
   "metadata": {
    "collapsed": false
   },
   "source": [
    "#### Main Routine: run for solving the UCP"
   ]
  },
  {
   "attachments": {},
   "cell_type": "markdown",
   "metadata": {
    "collapsed": false
   },
   "source": [
    "The solving algorithm always returns two types of \"best\" solutions: The first one always represents the solution with the lowest costs, the second one is the solution with the lowest objective function value. Depending on whether the **boolcheck**\\-variable is set to \"true\" or not, the solutions are pre\\-filtered to only contain feasible solution which fulfill all constraints or are allowed to violate constraints.\n"
   ]
  },
  {
   "cell_type": "code",
   "execution_count": 20,
   "metadata": {
    "collapsed": false,
    "scrolled": true
   },
   "outputs": [
    {
     "name": "stdout",
     "output_type": "stream",
     "text": [
      "expectation value of demand:  [618.0, 1445.0, 710.0, 710.0, 1255.0]\n",
      "expectation values of renewable supply:  [150.0, 200.0, 150.0, 170.0, 200.0]\n",
      "expected eff. demand:  [468.00000000000017, 1244.9999999999995, 559.9999999999999, 540.0, 1055.0]\n",
      "Start building relaxed UCP QUBO\n",
      "time to build QUBO: 0.03766200000000097\n",
      "Precision = 10\n",
      "QUBO size:  165\n"
     ]
    },
    {
     "data": {
      "image/png": "[encoded data removed]",
      "text/plain": [
       "<Figure size 432x288 with 2 Axes>"
      ]
     },
     "metadata": {
      "needs_background": "light"
     },
     "output_type": "display_data"
    },
    {
     "name": "stdout",
     "output_type": "stream",
     "text": [
      "Starting solver engine\n",
      "Start solver engine: Simulated annealing\n",
      "1 rounds and  1000 iterations\n",
      "#nonzeros/#quboEntries 13983 / 27225\n",
      "sparsity 0.4863911845730028\n",
      "time to find 1000 low energy output states with 1 subsequent runs of simulated annealing:  3.662285999999998\n"
     ]
    },
    {
     "data": {
      "image/png": "[encoded data removed]",
      "text/plain": [
       "<Figure size 432x288 with 2 Axes>"
      ]
     },
     "metadata": {
      "needs_background": "light"
     },
     "output_type": "display_data"
    },
    {
     "name": "stdout",
     "output_type": "stream",
     "text": [
      "Time to solve (wall time):  3.662285999999998\n",
      "lowest costs solution :\n",
      "60.0\t120.0\t136.6715542521994 \t401.22189638318673\n",
      "30.0\t150.0\t242.56598240469208\t722.0918866080156 \n",
      "25.0\t80.0 \t34.0              \t575.3176930596285 \n",
      "35.0\t80.0 \t34.0              \t575.3176930596285 \n",
      "10.0\t200.0\t136.6715542521994 \t453.32355816226783\n",
      "best objective solution: \n",
      "50.0\t80.0 \t52.87683284457478 \t335.14173998044964\n",
      "30.0\t120.0\t499.0146627565982 \t495.89442815249265\n",
      "25.0\t125.0\t128.84457478005865\t431.08504398826983\n",
      "5.0 \t135.0\t402.3284457478006 \t577.8592375366569 \n",
      "90.0\t200.0\t151.8651026392962 \t819.3059628543499 \n",
      "Total costs of lowest costs solution:  176135.90909090906\n",
      "Total costs of lowest objective solution:  216752.5855327468\n",
      "Objective value of lowest costs solution:  -2.484873984287014e+20\n",
      "Objective value of lowest objective solution:  -2.4848812739468362e+20\n",
      "Acculumated absolute demand mismatch for lowest cost solution:  873.8758553274683\n",
      "Acculumated absolute demand mismatch for objective solution:  816.5014662756597\n",
      "All constraints fulfilled for lowest costs solution?:  True\n",
      "pmincheck:  True minupcheck:  True mindowncheck:  True oncheck:  True startcheck:  True\n",
      "All constraint fulfilled for best objective solution:  True\n",
      "mingen fulfilled?:  True\n",
      "minup fulfilled?:  True\n",
      "mindown fulfilled?:  True\n",
      "\"on\"-variable always set correctly?:  True\n",
      "\"start\"-variable always set correctly?:  True\n"
     ]
    },
    {
     "data": {
      "image/png": "[encoded data removed]",
      "text/plain": [
       "<Figure size 432x288 with 1 Axes>"
      ]
     },
     "metadata": {
      "needs_background": "light"
     },
     "output_type": "display_data"
    },
    {
     "data": {
      "image/png": "[encoded data removed]",
      "text/plain": [
       "<Figure size 432x288 with 1 Axes>"
      ]
     },
     "metadata": {
      "needs_background": "light"
     },
     "output_type": "display_data"
    }
   ],
   "source": [
    "#set display size in diagrams\n",
    "matplotlib.rcParams.update({'font.size': 10})\n",
    "\n",
    "#initializing variables & setting variables with parameters / units\n",
    "\n",
    "T=len(demand)                          # number of time steps\n",
    "n = len(minup)                         # number of conventional power units\n",
    "ppart = 1 / ((2**(pres) - 1))          # step size of logarithmic resolution\n",
    "\n",
    "dgen0=[maxgen[i]-mingen[i] for i in range(len(mingen))]                     #power supply range of individual units\n",
    "\n",
    "\n",
    "\n",
    "Clist = [dgen0[i]*varcost[i] for i in range(n)]                              #defining auxiliary variable for cost of unit i per timestep\n",
    "\n",
    "dgen=[[ppart*dgen0[i]* 2**r for r in range(pres)] for i in range(n)]         #preparing power stage resolved \"dgen\"-vector\n",
    "\n",
    "d=[]                                                                         #computing effective demans\n",
    "for k in range(len(demand)):\n",
    "    if len(suppren)!=0:\n",
    "        if len(suppren)!=len(demand):\n",
    "            print('Mismatch of timesteps in demand and suppren')\n",
    "        d.append(demand[k] - np.sum(suppren[k]))\n",
    "    else:\n",
    "        d.append(demand[k])\n",
    "\n",
    "\n",
    "#calculating expectation values\n",
    "expD=[ sum(pdD[t][l]*probsD[t][l] for l in range(len(pdD[t]))) for t in range(T)]\n",
    "if graphicsout==True:\n",
    "    print('expectation value of demand: ', expD)\n",
    "expRE=[ sum(sum(pdRE[t][j][s]*probsRE[t][j][s] for s in range(len(pdRE[t][j]))) for j in range(len(pdRE[t]))) for t in range(T)]\n",
    "if graphicsout==True:\n",
    "    print('expectation values of renewable supply: ', expRE)\n",
    "\n",
    "from math import prod\n",
    "comb=[list(itertools.product(*pdRE[i])) for i in range(len(pdRE))]\n",
    "allcombinds_pdRE=[[[pdRE[l][list(np.array(m)).index(k)].index(k) for k in m] for m in comb[l]]for l in range(len(comb))]\n",
    "allcombs_pdRE=[[[pdRE[l][m][allcombinds_pdRE[l][j][m]] for m in range(len(allcombinds_pdRE[l][j]))] for j in range(len(allcombinds_pdRE[l]))] for l in range(len(allcombinds_pdRE))]\n",
    "expd=[sum(np.prod([probsRE[t][allcombinds_pdRE[t][m].index(allcombinds_pdRE[t][m][n])][allcombinds_pdRE[t][m][n]] for n in range(len(allcombs_pdRE[t][m]))])*probsD[t][r]*(pdD[t][r]-(sum(allcombs_pdRE[t][m][n] for n in range(len(allcombs_pdRE[t][m]))))) for m in range(len(allcombs_pdRE[t])) for r in range(len(pdD[t]))) for t in range(T)]\n",
    "if graphicsout==True:\n",
    "    print('expected eff. demand: ', expd)\n",
    "\n",
    "\n",
    "\n",
    "if A==0 and B==0 and C==0 and C2==0 and D==0 and E==0 and F==0 and G==0 and H==0:                                                                 # set penalty strengths before passing to buildQUBO\n",
    "    autoset=[1,0,0,0,0,0,0,0,0,0]\n",
    "else:\n",
    "    autoset=[0,A,B,C,C2,D,E,F,G,H]\n",
    "\n",
    "Q, Qcost=buildSUCPqubo(autoset,n,pres,T,d,dgen,Clist,varcost,startcost,minup,mindown,mingen,maxgen,pdRE,pdD,expd)     # build QUBO\n",
    "print(\"Precision =\",pres)\n",
    "print('QUBO size: ', len(Q))\n",
    "if graphicsout==True:\n",
    "    #print('QUBO size: ', len(Q))\n",
    "    ax = sns.heatmap(abs(Q),  cmap=\"jet\", norm=LogNorm())                                                   # plot QUBO heatmap\n",
    "    plt.show()\n",
    "\n",
    "print(\"Starting solver engine\")\n",
    "\n",
    "bestprice=float('inf')                                                                                   # initializing variables\n",
    "bestobjectiveprice=float('inf')\n",
    "bestobjective=float('inf')\n",
    "bestobjectiveAns=np.zeros(len(Q))\n",
    "bestpriceAns=np.zeros(len(Q))\n",
    "bestpriceobj=float('inf')\n",
    "bop1=float('inf')\n",
    "bop2=float('inf')\n",
    "bop3=float('inf')\n",
    "bop4=float('inf')\n",
    "\n",
    "\n",
    "#solve the problem with the chosen solver\n",
    "if solver==1:\n",
    "    price, Ans, combi, pricequality, objectivequality, qerrors,bestprice, bestpriceAns, bestobjective, bestobjectiveAns, bestobjectiveprice, bestpriceobj, timetosolve= BruteForceUCPqubo(Q,dgen,varcost,startcost,mingen,minup,mindown,T,n,pres, bestprice, bestpriceAns, bestobjective, bestobjectiveAns, bestobjectiveprice, bestpriceobj, boolcheck,graphicsout)\n",
    "if solver==2:\n",
    "    price, Ans, combi, qerrors, bestprice, bestpriceAns, bestpriceobj, bestobjectiveprice, bestobjectiveAns, bestobjective, timetosolve= MonteCarloUCPqubo(Q,Num,dgen,varcost,startcost,mingen,minup,mindown,T,n,pres, bestprice, bestpriceAns, bestobjective, bestobjectiveAns, bestobjectiveprice, bestpriceobj, boolcheck,graphicsout)\n",
    "if solver==3:\n",
    "    price, Ans, combi, qerrors, bestprice, bestpriceAns, bestpriceobj, bestobjectiveprice, bestobjectiveAns, bestobjective, timetosolve= MCsteepestdescentUCPqubo(Q,Num,dgen,varcost,startcost,mingen,minup,mindown,T,n,pres,bestprice, bestpriceAns, bestobjective, bestobjectiveAns, bestobjectiveprice, bestpriceobj, boolcheck,graphicsout)\n",
    "if solver==4:\n",
    "    price, Ans, combi, qerrors, bestprice, bestpriceAns, bestpriceobj, bestobjectiveprice, bestobjectiveAns, bestobjective, timetosolve =SimulatedAnnealingUCPqubo(Q,Num,rounds,dgen,varcost,startcost,mingen,minup,mindown,T,n,pres,bestprice, bestpriceAns, bestobjective, bestobjectiveAns, bestobjectiveprice, bestpriceobj, boolcheck, Qcost,graphicsout)\n",
    "if solver==5:\n",
    "    price, Ans, combi, qerrors, bestprice, bestpriceAns, bestpriceobj, bestobjectiveprice, bestobjectiveAns, bestobjective, timetosolve=QuantumAnnealingUCPqubo(Q,Num,rounds,DWtoken,dgen,varcost,startcost,mingen,minup,mindown,T,n,pres,bestprice, bestpriceAns, bestobjective, bestobjectiveAns, bestobjectiveprice, bestpriceobj, boolcheck, Qcost,graphicsout)\n",
    "if solver==6:\n",
    "    price, Ans, combi, qerrors, bestprice, bestpriceAns, bestobjective, bestobjectiveAns, bestobjectiveprice, bestpriceobj, timetosolve = AzureRoutinePT(workspace,Q,Num,dgen,varcost,startcost,mingen,minup,mindown,T,n,pres,bestprice, bestpriceAns, bestobjective, bestobjectiveAns, bestobjectiveprice, bestpriceobj, boolcheck, Qcost, graphicsout)\n",
    "if solver==7:\n",
    "    price, Ans, combi, qerrors, bestprice, bestpriceAns, bestobjective, bestobjectiveAns, bestobjectiveprice, bestpriceobj, timetosolve = AzureRoutineQMC(workspace,Q,Num,dgen,varcost,startcost,mingen,minup,mindown,T,n,pres,bestprice, bestpriceAns, bestobjective, bestobjectiveAns, bestobjectiveprice, bestpriceobj, boolcheck, Qcost, graphicsout)\n",
    "if solver==8:\n",
    "    price, Ans, combi, qerrors, bestprice, bestpriceAns, bestobjective, bestobjectiveAns, bestobjectiveprice, bestpriceobj, timetosolve = AzureRoutineSQMC(workspace,Q,Num,dgen,varcost,startcost,mingen,minup,mindown,T,n,pres,bestprice, bestpriceAns, bestobjective, bestobjectiveAns, bestobjectiveprice, bestpriceobj, boolcheck, Qcost, graphicsout)\n",
    "\n",
    "\n",
    "# post-processing of result\n",
    "REres=len(pdRE[0][0])\n",
    "Dres=len(pdD[0])\n",
    "lREnum=len(pdRE[0])\n",
    "lREt=len(pdRE[0])*len(pdRE[0][0])\n",
    "lRE=T*lREnum*REres\n",
    "lD =T*Dres\n",
    "\n",
    "dim=n*(pres+2)*T     #dimension of QUBO (size) without stochastic part\n",
    "dimt=n*(pres+2)      #size of one time step\n",
    "\n",
    "bestobjectiveAns=Ans\n",
    "pDemand=[sum(bestpriceAns[n*(pres+2)*T+T*lREnum*REres+t*Dres+Y]*pdD[t][Y] for Y in range(Dres)) for t in range(T)]\n",
    "oDemand=[sum(bestobjectiveAns[n*(pres+2)*T+lRE+t*Dres+l]*pdD[t][l] for l in range(len(pdD[0]))) for t in range(T)]\n",
    "\n",
    "\n",
    "\n",
    "\n",
    "pp = np.zeros((T, n+len(pdRE[0])))\n",
    "pp2 = np.zeros((T, n))\n",
    "psupply1=np.zeros((T, n+len(pdRE[0])))\n",
    "psupply2=np.zeros((T, n+len(pdRE[0])))\n",
    "ppower=np.zeros((T,n,pres))\n",
    "pstart=np.zeros((T,n))\n",
    "pon=np.zeros((T,n))\n",
    "\n",
    "op = np.zeros((T, n+len(pdRE[0])))\n",
    "op2 = np.zeros((T, n))\n",
    "osupply1=np.zeros((T, n+len(pdRE[0])))\n",
    "osupply2=np.zeros((T, n+len(pdRE[0])))\n",
    "opower=np.zeros((T,n,pres))\n",
    "ostart=np.zeros((T,n))\n",
    "oon=np.zeros((T,n))\n",
    "pREstages=np.zeros((T,len(pdRE[0])))\n",
    "oREstages=np.zeros((T,len(pdRE[0])))\n",
    "pDstages=np.zeros(T)\n",
    "oDstages=np.zeros(T)\n",
    "\n",
    "\n",
    "time=[]\n",
    "for t in range(T):\n",
    "    time.append(t + 1)\n",
    "    for i in range(n):\n",
    "        for r in range(pres):\n",
    "            pp2[t][i] = pp2[t][i] + bestpriceAns[t*n*(pres+2)+i*pres+r]+bestpriceAns[t*n*(pres+2)+n*pres+i]\n",
    "            op2[t][i] = op2[t][i] + bestobjectiveAns[t*n*(pres+2)+i*pres+r]+bestobjectiveAns[t*n*(pres+2)+n*pres+i]\n",
    "\n",
    "\n",
    "\n",
    "\n",
    "for t in range(T):\n",
    "    for l in range(len(pdD[0])):\n",
    "        pDstages[t]=pDstages[t] + bestpriceAns[n*(pres+2)*T+lRE+t*Dres+l]\n",
    "        oDstages[t]=oDstages[t] + bestobjectiveAns[n*(pres+2)*T+lRE+t*Dres+l]\n",
    "    for i in range(n+len(pdRE[0])):\n",
    "        if i < len(pdRE[0]):\n",
    "            for s in range(REres):\n",
    "                pp[t][i] = pp[t][i] + bestpriceAns[n*(pres+2)*T+t*lREt+i*REres+s]*pdRE[t][i][s]\n",
    "                op[t][i] = op[t][i] + bestobjectiveAns[n*(pres+2)*T+t*lREt+i*REres+s]*pdRE[t][i][s]\n",
    "                psupply1[t][i]=psupply1[t][i] + bestpriceAns[n*(pres+2)*T+t*lREt+i*REres+s]*pdRE[t][i][s]\n",
    "                osupply1[t][i]=osupply1[t][i] + bestobjectiveAns[n*(pres+2)*T+t*lREt+i*REres+s]*pdRE[t][i][s]\n",
    "                psupply2[t][i]=psupply2[t][i] + bestpriceAns[n*(pres+2)*T+t*lREt+i*REres+s]*pdRE[t][i][s]\n",
    "                osupply2[t][i]=osupply2[t][i] + bestobjectiveAns[n*(pres+2)*T+t*lREt+i*REres+s]*pdRE[t][i][s]\n",
    "                pREstages[t][i]=pREstages[t][i] + bestpriceAns[n*(pres+2)*T+t*lREt+i*REres+s]\n",
    "                oREstages[t][i]=oREstages[t][i] + bestobjectiveAns[n*(pres+2)*T+t*lREt+i*REres+s]\n",
    "        else:\n",
    "            for r in range(pres):\n",
    "                pp[t][i] = pp[t][i] + bestpriceAns[t*n*(pres+2)+(i-len(pdRE[0]))*pres+r]*dgen[i-len(pdRE[0])][r]\n",
    "                op[t][i] = op[t][i] + bestobjectiveAns[t*n*(pres+2)+(i-len(pdRE[0]))*pres+r]*dgen[i-len(pdRE[0])][r]\n",
    "            if pp2[t][i-len(pdRE[0])]>0:\n",
    "                pp[t][i] = pp[t][i] + mingen[i-len(pdRE[0])]\n",
    "            if op2[t][i-len(pdRE[0])]>0:\n",
    "                op[t][i] = op[t][i] + mingen[i-len(pdRE[0])]\n",
    "            pon[t][i-len(pdRE[0])]=bestpriceAns[t*n*(pres+2)+n*(pres)+i-len(pdRE[0])]\n",
    "            oon[t][i-len(pdRE[0])]=bestobjectiveAns[t*n*(pres+2)+n*(pres)+i-len(pdRE[0])]\n",
    "            pstart[t][i-len(pdRE[0])]=bestpriceAns[t*n*(pres+2)+n*(pres+1)+i-len(pdRE[0])]\n",
    "            ostart[t][i-len(pdRE[0])]=bestobjectiveAns[t*n*(pres+2)+n*(pres+1)+i-len(pdRE[0])]\n",
    "            if pp2[t][i-len(pdRE[0])]>0:\n",
    "                for r in range(pres):\n",
    "                    ppower[t][i-len(pdRE[0])][r]=bestpriceAns[t*n*(pres+2)+(i-len(pdRE[0]))*pres+r]\n",
    "                    psupply1[t][i]=psupply1[t][i]+bestpriceAns[t*n*(pres+2)+(i-len(pdRE[0]))*pres+r]*dgen[i-len(pdRE[0])][r]\n",
    "                    psupply2[t][i]=psupply2[t][i]+bestpriceAns[t*n*(pres+2)+(i-len(pdRE[0]))*pres+r]*dgen[i-len(pdRE[0])][r]\n",
    "                psupply1[t][i]=psupply1[t][i]+mingen[i-len(pdRE[0])]\n",
    "                psupply2[t][i]=psupply2[t][i]+mingen[i-len(pdRE[0])]*bestpriceAns[t*n*(pres+2)+n*(pres)+i-len(pdRE[0])]\n",
    "            if op2[t][i-len(pdRE[0])]>0:\n",
    "                for r in range(pres):\n",
    "                    opower[t][i-len(pdRE[0])][r]=bestobjectiveAns[t*n*(pres+2)+(i-len(pdRE[0]))*pres+r]\n",
    "                    osupply1[t][i]=osupply1[t][i]+bestobjectiveAns[t*n*(pres+2)+(i-len(pdRE[0]))*pres+r]*dgen[i-len(pdRE[0])][r]\n",
    "                    osupply2[t][i]=osupply2[t][i]+bestobjectiveAns[t*n*(pres+2)+(i-len(pdRE[0]))*pres+r]*dgen[i-len(pdRE[0])][r]\n",
    "                osupply1[t][i]=osupply1[t][i]+mingen[i-len(pdRE[0])]\n",
    "                osupply2[t][i]=osupply2[t][i]+mingen[i-len(pdRE[0])]*bestobjectiveAns[t*n*(pres+2)+n*(pres)+i-len(pdRE[0])]\n",
    "\n",
    "if graphicsout==True:\n",
    "    print('lowest costs solution :')                                             # printing table of the lowest costs unit allocation\n",
    "    s = [[str(e) for e in row] for row in psupply2]\n",
    "    lens = [max(map(len, col)) for col in zip(*s)]\n",
    "    fmt = '\\t'.join('{{:{}}}'.format(x) for x in lens)\n",
    "    table = [fmt.format(*row) for row in s]\n",
    "    print('\\n'.join(table))\n",
    "\n",
    "\n",
    "    print('best objective solution: ')                                           # printing table of the lowest objective unit allocation\n",
    "    s = [[str(e) for e in row] for row in osupply2]\n",
    "    lens = [max(map(len, col)) for col in zip(*s)]\n",
    "    fmt = '\\t'.join('{{:{}}}'.format(x) for x in lens)\n",
    "    table = [fmt.format(*row) for row in s]\n",
    "    print('\\n'.join(table))\n",
    "\n",
    "\n",
    "print('Total costs of lowest costs solution: ', np.matmul(np.matmul(bestpriceAns,Qcost),np.transpose(bestpriceAns)))\n",
    "\n",
    "if graphicsout==True:\n",
    "    print('Total costs of lowest objective solution: ',np.matmul(np.matmul(bestobjectiveAns,Qcost),np.transpose(bestobjectiveAns)))\n",
    "    print('Objective value of lowest costs solution: ', np.matmul(np.matmul(bestpriceAns,Q),np.transpose(bestpriceAns)))\n",
    "    print('Objective value of lowest objective solution: ',np.matmul(np.matmul(bestobjectiveAns,Q),np.transpose(bestobjectiveAns)))\n",
    "\n",
    "    \n",
    "pdiff=[demand[t] for t in range(T)]\n",
    "odiff=[demand[t] for t in range(T)]\n",
    "for t in range(T):\n",
    "    for i in range(len(psupply2[0])):\n",
    "        pdiff[t]=pdiff[t]-psupply2[t][i]\n",
    "        odiff[t]=odiff[t]-osupply2[t][i]\n",
    "if graphicsout==True:\n",
    "    print('Acculumated absolute demand mismatch for lowest cost solution: ', sum(np.fromiter((abs(pdiff[t]) for t in range(T)), float)))\n",
    "    print('Acculumated absolute demand mismatch for objective solution: ', sum(np.fromiter((abs(odiff[t]) for t in range(T)), float)))\n",
    "\n",
    "\n",
    "okay, pmincheck, oncheck, startcheck, minupcheck, mindowncheck, errorquality = penaltycheck(bestpriceAns,dgen,mingen,pstart,minup,mindown,pon,T,n,pres)\n",
    "if graphicsout==True:\n",
    "    print('All constraints fulfilled for lowest costs solution?: ', okay)\n",
    "    print('pmincheck: ',pmincheck,'minupcheck: ',minupcheck,'mindowncheck: ',mindowncheck,'oncheck: ',oncheck,'startcheck: ',startcheck)\n",
    "\n",
    "okay, pmincheck, oncheck, startcheck, minupcheck, mindowncheck, errorquality = penaltycheck(bestobjectiveAns,dgen,mingen,ostart,minup,mindown,oon,T,n,pres)\n",
    "if graphicsout==True:\n",
    "    print('All constraint fulfilled for best objective solution: ', okay)\n",
    "    print('mingen fulfilled?: ',pmincheck)\n",
    "    print('minup fulfilled?: ',minupcheck)\n",
    "    print('mindown fulfilled?: ',mindowncheck)\n",
    "    print('\"on\"-variable always set correctly?: ',oncheck)\n",
    "    print('\"start\"-variable always set correctly?: ',startcheck)\n",
    "\n",
    "\n",
    "if graphicsout==True:\n",
    "    # plotting results\n",
    "    width = 0.2\n",
    "\n",
    "    plt.figure(2) # plottning best price - solution\n",
    "    plt.bar([x - width / 2 for x in range(T)],\n",
    "            pDemand,\n",
    "            color='b',\n",
    "            width=width,\n",
    "            edgecolor='black',\n",
    "            label='demand')\n",
    "    plt.bar([x - 1.5*width  for x in range(T)],\n",
    "            expD,\n",
    "            color='r',\n",
    "            width=width,\n",
    "            alpha=0.4,\n",
    "            edgecolor='black',\n",
    "            label='expected demand')\n",
    "\n",
    "    labels = ['RE supply '+str(i+1) for i in range(len(pdRE[0]))]\n",
    "    for i in range(n):\n",
    "        labels.append('unit '+str(i+1))\n",
    "    for i in range(n + len(pdRE[0])):\n",
    "        if i == 0:\n",
    "            plt.bar(\n",
    "                [x + width / 2 for x in range(T)],\n",
    "                [y[0] for y in psupply2],\n",
    "                width=width,\n",
    "                edgecolor='black',\n",
    "                label=labels[i],\n",
    "                bottom=0)\n",
    "        else:\n",
    "            x = np.zeros(T)\n",
    "            for k in range(i):\n",
    "                x = np.add(x, [y[k] for y in psupply2])\n",
    "            plt.bar(\n",
    "                [x + width / 2 for x in range(T)],\n",
    "                [y[i] for y in psupply2],\n",
    "                width=width,\n",
    "                edgecolor='black',\n",
    "                label=labels[i],\n",
    "                bottom=x)\n",
    "\n",
    "    plt.xlabel(\"time [h]\")\n",
    "    plt.ylabel(\"power [MWh]\")\n",
    "    plt.title(\"lowest costs solution\")\n",
    "    plt.legend(loc=2)\n",
    "    plt.grid()\n",
    "    #plt.savefig('SimAnCost2.eps',dpi='figure')\n",
    "    #plt.savefig('SimAnCost2.png')\n",
    "    plt.show()\n",
    "\n",
    "    plt.figure(3) # plottning best objective - solution\n",
    "    plt.bar([x - width / 2 for x in range(T)],\n",
    "            oDemand,\n",
    "            color='b',\n",
    "            width=width,\n",
    "            edgecolor='black',\n",
    "            label='demand')\n",
    "    plt.bar([x - 1.5*width  for x in range(T)],\n",
    "            expD,\n",
    "            color='r',\n",
    "            width=width,\n",
    "            edgecolor='black',\n",
    "            alpha=0.4,\n",
    "            label='expected demand')\n",
    "\n",
    "    labels = ['RE supply '+str(i+1) for i in range(len(pdRE[0]))]\n",
    "    for i in range(n):\n",
    "        labels.append('unit '+str(i+1))\n",
    "    for i in range(n + len(pdRE[0])):\n",
    "        if i == 0:\n",
    "            plt.bar(\n",
    "                [x + width / 2 for x in range(T)],\n",
    "                [y[0] for y in osupply2],\n",
    "                width=width,\n",
    "                edgecolor='black',\n",
    "                label=labels[i],\n",
    "                bottom=0)\n",
    "        else:\n",
    "            x = np.zeros(T)\n",
    "            for k in range(i):\n",
    "                x = np.add(x, [y[k] for y in osupply2])\n",
    "            plt.bar(\n",
    "                [x + width / 2 for x in range(T)],\n",
    "                [y[i] for y in osupply2],\n",
    "                width=width,\n",
    "                edgecolor='black',\n",
    "                label=labels[i],\n",
    "                bottom=x)\n",
    "\n",
    "    plt.xlabel(\"time [h]\")\n",
    "    plt.ylabel(\"power [MWh]\")\n",
    "    plt.title(\"best objective solution\")\n",
    "    plt.legend(loc=2)\n",
    "    plt.grid()\n",
    "    #plt.savefig('SimAnObj2.eps',dpi='figure')    #\n",
    "    #plt.savefig('SimAnObj2.png')\n",
    "    plt.show()"
   ]
  }
 ],
 "metadata": {
  "kernelspec": {
   "display_name": "Python 3.9.12 ('q')",
   "language": "python",
   "name": "python3"
  },
  "language_info": {
   "codemirror_mode": {
    "name": "ipython",
    "version": 3
   },
   "file_extension": ".py",
   "mimetype": "text/x-python",
   "name": "python",
   "nbconvert_exporter": "python",
   "pygments_lexer": "ipython3",
   "version": "3.9.12"
  },
  "vscode": {
   "interpreter": {
    "hash": "59ee0f4e51d5fd22062f9f81a021fbeb1bb3e4bf9568561b7ac3ccf818c074f1"
   }
  }
 },
 "nbformat": 4,
 "nbformat_minor": 4
}
